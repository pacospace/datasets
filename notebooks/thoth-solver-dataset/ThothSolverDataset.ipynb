{
 "cells": [
  {
   "cell_type": "markdown",
   "metadata": {
    "toc": true
   },
   "source": [
    "<h1>Table of Contents<span class=\"tocSkip\"></span></h1>\n",
    "<div class=\"toc\"><ul class=\"toc-item\"><li><span><a href=\"#Context\" data-toc-modified-id=\"Context-1\"><span class=\"toc-item-num\">1&nbsp;&nbsp;</span>Context</a></span></li><li><span><a href=\"#Goal\" data-toc-modified-id=\"Goal-2\"><span class=\"toc-item-num\">2&nbsp;&nbsp;</span>Goal</a></span></li><li><span><a href=\"#Content\" data-toc-modified-id=\"Content-3\"><span class=\"toc-item-num\">3&nbsp;&nbsp;</span>Content</a></span></li><li><span><a href=\"#How-you-can-use-the-Data\" data-toc-modified-id=\"How-you-can-use-the-Data-4\"><span class=\"toc-item-num\">4&nbsp;&nbsp;</span>How you can use the Data</a></span></li><li><span><a href=\"#Import-packages\" data-toc-modified-id=\"Import-packages-5\"><span class=\"toc-item-num\">5&nbsp;&nbsp;</span>Import packages</a></span></li><li><span><a href=\"#Retrieve-the-data\" data-toc-modified-id=\"Retrieve-the-data-6\"><span class=\"toc-item-num\">6&nbsp;&nbsp;</span>Retrieve the data</a></span></li><li><span><a href=\"#Explore-one-solver-report\" data-toc-modified-id=\"Explore-one-solver-report-7\"><span class=\"toc-item-num\">7&nbsp;&nbsp;</span>Explore one solver report</a></span><ul class=\"toc-item\"><li><span><a href=\"#Solver-report-metadata\" data-toc-modified-id=\"Solver-report-metadata-7.1\"><span class=\"toc-item-num\">7.1&nbsp;&nbsp;</span>Solver report metadata</a></span><ul class=\"toc-item\"><li><span><a href=\"#Consider-all-solver-reports\" data-toc-modified-id=\"Consider-all-solver-reports-7.1.1\"><span class=\"toc-item-num\">7.1.1&nbsp;&nbsp;</span>Consider all solver reports</a></span></li></ul></li><li><span><a href=\"#Solver-report-result\" data-toc-modified-id=\"Solver-report-result-7.2\"><span class=\"toc-item-num\">7.2&nbsp;&nbsp;</span>Solver report result</a></span></li></ul></li><li><span><a href=\"#Consider-all-solver-reports\" data-toc-modified-id=\"Consider-all-solver-reports-8\"><span class=\"toc-item-num\">8&nbsp;&nbsp;</span>Consider all solver reports</a></span><ul class=\"toc-item\"><li><span><a href=\"#Aggregated-Data-from-solver-reports\" data-toc-modified-id=\"Aggregated-Data-from-solver-reports-8.1\"><span class=\"toc-item-num\">8.1&nbsp;&nbsp;</span>Aggregated Data from solver reports</a></span></li><li><span><a href=\"#Error-Data-from-solver-reports\" data-toc-modified-id=\"Error-Data-from-solver-reports-8.2\"><span class=\"toc-item-num\">8.2&nbsp;&nbsp;</span>Error Data from solver reports</a></span></li></ul></li></ul></div>"
   ]
  },
  {
   "cell_type": "markdown",
   "metadata": {},
   "source": [
    "# Context\n",
    "\n",
    "Thoth [Solver Dataset](https://github.com/thoth-station/datasets/blob/master/notebooks/thoth-solver-dataset/thoth-solver-dataset-v1.0.zip) is part of a series of datasets related to observations regarding software stacks (e.g. dependency tree, installability, performance, security, health) as part of [Project Thoth](https://thoth-station.ninja/). All these datasets can be found also [here](https://github.com/thoth-station/datasets) where they are described and explored to facilitate their use. All these observations are created with different components which are part of [Project Thoth](https://thoth-station.ninja/) and stored in Thoth Knowledge Graph which is used by [Thoth Adviser](https://github.com/thoth-station/adviser) to provide advises on software stacks depending on User requirements."
   ]
  },
  {
   "cell_type": "markdown",
   "metadata": {},
   "source": [
    "# Goal\n",
    "The goal is to provide datasets widely available and useful for data scientists. Thoth Team within the office of the CTO at Red Hat has collected datasets that can be made open source within the IT domain for training Machine Learning models."
   ]
  },
  {
   "cell_type": "markdown",
   "metadata": {},
   "source": [
    "# Content\n",
    "Thoth [Solver Dataset](https://github.com/thoth-station/datasets/blob/master/notebooks/thoth-solver-dataset/thoth-solver-dataset-v1.0.zip) has been created with one of the components of Thoth called [Dependency Solver](https://github.com/thoth-station/solver) which tries to answer a simple question:\n",
    "* what packages will be installed (resolved by pip or any Python compliant dependency resolver) for the provided stack?\n"
   ]
  },
  {
   "cell_type": "markdown",
   "metadata": {},
   "source": [
    "# How you can use the Data\n",
    "You can download and use this data for free for your own purpose, all we ask is three things\n",
    "\n",
    "* you cite Thoth Team as the source if you use the data,\n",
    "* you accept that you are solely responsible for how you use the data\n",
    "* you do not sell this data to anyone, it is free!"
   ]
  },
  {
   "cell_type": "markdown",
   "metadata": {},
   "source": [
    "# Import packages"
   ]
  },
  {
   "cell_type": "code",
   "execution_count": 2,
   "metadata": {
    "ExecuteTime": {
     "end_time": "2020-06-01T12:09:02.176128Z",
     "start_time": "2020-06-01T12:09:01.068401Z"
    }
   },
   "outputs": [],
   "source": [
    "from thoth.report_processing.components.solver import Solver\n",
    "import pandas as pd"
   ]
  },
  {
   "cell_type": "markdown",
   "metadata": {},
   "source": [
    "# Retrieve the data"
   ]
  },
  {
   "cell_type": "code",
   "execution_count": null,
   "metadata": {
    "ExecuteTime": {
     "end_time": "2020-06-01T07:23:13.316809Z",
     "start_time": "2020-06-01T07:23:12.398066Z"
    }
   },
   "outputs": [],
   "source": [
    "FILE_NAME = \"thoth-solver-dataset-v1.0.zip\"\n",
    "from thoth.report_processing.utils import extract_zip_file\n",
    "extract_zip_file(FILE_NAME)"
   ]
  },
  {
   "cell_type": "code",
   "execution_count": null,
   "metadata": {
    "ExecuteTime": {
     "end_time": "2020-06-01T12:09:12.463996Z",
     "start_time": "2020-06-01T12:09:05.536071Z"
    }
   },
   "outputs": [],
   "source": [
    "from pathlib import Path\n",
    "current_path = Path.cwd()\n",
    "solver_reports = Solver.aggregate_solver_results(repo_path=current_path.joinpath('solver'), is_local=True)"
   ]
  },
  {
   "cell_type": "markdown",
   "metadata": {},
   "source": [
    "# Explore one solver report"
   ]
  },
  {
   "cell_type": "markdown",
   "metadata": {},
   "source": [
    "Each solver report is created for a specific package (e.g Python package from a certain index in a certain version),\n",
    "*solved* using a certain solver. \n",
    "\n",
    "**What is a solver?**\n",
    "In Thoth language a solver example is `solver-fedora-31-py37` which is named after:\n",
    "* **operating system** used (e.g Fedora 31)\n",
    "* **Python interpreter** installed (e.g. Python 3.7)\n",
    "\n",
    "on which the specific **Python package** is going to be installed."
   ]
  },
  {
   "cell_type": "code",
   "execution_count": 12,
   "metadata": {
    "ExecuteTime": {
     "end_time": "2020-06-01T09:01:45.646956Z",
     "start_time": "2020-06-01T09:01:45.644007Z"
    }
   },
   "outputs": [],
   "source": [
    "solver_report = solver_reports['solver-fedora-31-py37-0870237d.json']"
   ]
  },
  {
   "cell_type": "markdown",
   "metadata": {
    "ExecuteTime": {
     "end_time": "2020-05-31T15:17:08.325133Z",
     "start_time": "2020-05-31T15:17:08.321324Z"
    }
   },
   "source": [
    "Each solver report is made by two main parts:\n",
    "* **metadata** where information about dependency solver itself are stored (e.g version running, type of solver)\n",
    "* **result** where the inputs and outputs of solver are actually collected "
   ]
  },
  {
   "cell_type": "markdown",
   "metadata": {
    "ExecuteTime": {
     "end_time": "2020-05-31T15:23:22.703377Z",
     "start_time": "2020-05-31T15:23:22.699852Z"
    }
   },
   "source": [
    "## Solver report metadata"
   ]
  },
  {
   "cell_type": "markdown",
   "metadata": {},
   "source": [
    "All the metadata available for each solver report are described below:\n",
    "* **analyzer**, name of the analyzer;\n",
    "* **analyzer_version**, analyzer version;\n",
    "* **arguments**, arguments for the analyzer;\n",
    "    * **python** specific inputs regarding the package to be analyzed (aka solved in this case);\n",
    "    * **dependency-solver** specific inputs;\n",
    "* **datetime**, when the solver report has been created;\n",
    "* **distribution**, operating system specific info;\n",
    "* **document_id**, unique ID of the solver report which includes the solver used (e.g. solver-fedora-31-py37);\n",
    "* **duration**, duration of the solver run for a certain Python Package;\n",
    "* **hostname**, Container name where the solver was run;\n",
    "* **os_release**, OS info;\n",
    "* **python**, Python Inrpreter info;\n",
    "* **thoth_deployment_name**, Thoth architecture specific info;\n",
    "* **timestamp**;"
   ]
  },
  {
   "cell_type": "code",
   "execution_count": 13,
   "metadata": {
    "ExecuteTime": {
     "end_time": "2020-06-01T08:06:05.165047Z",
     "start_time": "2020-06-01T08:06:05.123006Z"
    }
   },
   "outputs": [
    {
     "data": {
      "text/html": [
       "<div>\n",
       "<style scoped>\n",
       "    .dataframe tbody tr th:only-of-type {\n",
       "        vertical-align: middle;\n",
       "    }\n",
       "\n",
       "    .dataframe tbody tr th {\n",
       "        vertical-align: top;\n",
       "    }\n",
       "\n",
       "    .dataframe thead th {\n",
       "        text-align: right;\n",
       "    }\n",
       "</style>\n",
       "<table border=\"1\" class=\"dataframe\">\n",
       "  <thead>\n",
       "    <tr style=\"text-align: right;\">\n",
       "      <th></th>\n",
       "      <th>analyzer</th>\n",
       "      <th>analyzer_version</th>\n",
       "      <th>arguments</th>\n",
       "      <th>datetime</th>\n",
       "      <th>distribution</th>\n",
       "      <th>document_id</th>\n",
       "      <th>duration</th>\n",
       "      <th>hostname</th>\n",
       "      <th>os_release</th>\n",
       "      <th>python</th>\n",
       "      <th>thoth_deployment_name</th>\n",
       "      <th>timestamp</th>\n",
       "    </tr>\n",
       "  </thead>\n",
       "  <tbody>\n",
       "    <tr>\n",
       "      <th>0</th>\n",
       "      <td>thoth-solver</td>\n",
       "      <td>1.5.1</td>\n",
       "      <td>{'python': {'exclude_packages': None, 'index':...</td>\n",
       "      <td>2020-05-20T02:50:05.559856</td>\n",
       "      <td>{'codename': '', 'id': 'fedora', 'like': '', '...</td>\n",
       "      <td>solver-fedora-31-py37-0870237d</td>\n",
       "      <td>7</td>\n",
       "      <td>solver-fedora-31-py37-0870237d-2875571824</td>\n",
       "      <td>{'id': 'fedora', 'name': 'Fedora', 'platform_i...</td>\n",
       "      <td>{'api_version': 1013, 'implementation_name': '...</td>\n",
       "      <td>thoth-psi-stage</td>\n",
       "      <td>1589943005</td>\n",
       "    </tr>\n",
       "  </tbody>\n",
       "</table>\n",
       "</div>"
      ],
      "text/plain": [
       "       analyzer analyzer_version  \\\n",
       "0  thoth-solver            1.5.1   \n",
       "\n",
       "                                           arguments  \\\n",
       "0  {'python': {'exclude_packages': None, 'index':...   \n",
       "\n",
       "                     datetime  \\\n",
       "0  2020-05-20T02:50:05.559856   \n",
       "\n",
       "                                        distribution  \\\n",
       "0  {'codename': '', 'id': 'fedora', 'like': '', '...   \n",
       "\n",
       "                      document_id  duration  \\\n",
       "0  solver-fedora-31-py37-0870237d         7   \n",
       "\n",
       "                                    hostname  \\\n",
       "0  solver-fedora-31-py37-0870237d-2875571824   \n",
       "\n",
       "                                          os_release  \\\n",
       "0  {'id': 'fedora', 'name': 'Fedora', 'platform_i...   \n",
       "\n",
       "                                              python thoth_deployment_name  \\\n",
       "0  {'api_version': 1013, 'implementation_name': '...       thoth-psi-stage   \n",
       "\n",
       "    timestamp  \n",
       "0  1589943005  "
      ]
     },
     "execution_count": 13,
     "metadata": {},
     "output_type": "execute_result"
    }
   ],
   "source": [
    "pd.DataFrame([solver_report[\"metadata\"]])"
   ]
  },
  {
   "cell_type": "code",
   "execution_count": 15,
   "metadata": {
    "ExecuteTime": {
     "end_time": "2020-06-01T08:06:07.749125Z",
     "start_time": "2020-06-01T08:06:07.732844Z"
    }
   },
   "outputs": [
    {
     "data": {
      "text/html": [
       "<div>\n",
       "<style scoped>\n",
       "    .dataframe tbody tr th:only-of-type {\n",
       "        vertical-align: middle;\n",
       "    }\n",
       "\n",
       "    .dataframe tbody tr th {\n",
       "        vertical-align: top;\n",
       "    }\n",
       "\n",
       "    .dataframe thead th {\n",
       "        text-align: right;\n",
       "    }\n",
       "</style>\n",
       "<table border=\"1\" class=\"dataframe\">\n",
       "  <thead>\n",
       "    <tr style=\"text-align: right;\">\n",
       "      <th></th>\n",
       "      <th>document_id</th>\n",
       "      <th>datetime</th>\n",
       "      <th>requirements</th>\n",
       "      <th>solver</th>\n",
       "      <th>os_name</th>\n",
       "      <th>os_version</th>\n",
       "      <th>python_interpreter</th>\n",
       "      <th>analyzer_version</th>\n",
       "    </tr>\n",
       "  </thead>\n",
       "  <tbody>\n",
       "    <tr>\n",
       "      <th>0</th>\n",
       "      <td>solver-fedora-31-py37-0870237d</td>\n",
       "      <td>2020-05-20T02:50:05.559856</td>\n",
       "      <td>pymisp===2.4.126</td>\n",
       "      <td>fedora-31-py37</td>\n",
       "      <td>fedora</td>\n",
       "      <td>31</td>\n",
       "      <td>3.7</td>\n",
       "      <td>1.5.1</td>\n",
       "    </tr>\n",
       "  </tbody>\n",
       "</table>\n",
       "</div>"
      ],
      "text/plain": [
       "                      document_id                    datetime  \\\n",
       "0  solver-fedora-31-py37-0870237d  2020-05-20T02:50:05.559856   \n",
       "\n",
       "       requirements          solver os_name os_version python_interpreter  \\\n",
       "0  pymisp===2.4.126  fedora-31-py37  fedora         31                3.7   \n",
       "\n",
       "  analyzer_version  \n",
       "0            1.5.1  "
      ]
     },
     "execution_count": 15,
     "metadata": {},
     "output_type": "execute_result"
    }
   ],
   "source": [
    "solver_subset_metadata = Solver.extract_data_from_solver_metadata(solver_report[\"metadata\"])\n",
    "pd.DataFrame([solver_subset_metadata])"
   ]
  },
  {
   "cell_type": "markdown",
   "metadata": {},
   "source": [
    "### Consider all solver reports"
   ]
  },
  {
   "cell_type": "code",
   "execution_count": 17,
   "metadata": {
    "ExecuteTime": {
     "end_time": "2020-06-01T08:06:10.196166Z",
     "start_time": "2020-06-01T08:06:10.100741Z"
    }
   },
   "outputs": [
    {
     "data": {
      "text/html": [
       "<div>\n",
       "<style scoped>\n",
       "    .dataframe tbody tr th:only-of-type {\n",
       "        vertical-align: middle;\n",
       "    }\n",
       "\n",
       "    .dataframe tbody tr th {\n",
       "        vertical-align: top;\n",
       "    }\n",
       "\n",
       "    .dataframe thead th {\n",
       "        text-align: right;\n",
       "    }\n",
       "</style>\n",
       "<table border=\"1\" class=\"dataframe\">\n",
       "  <thead>\n",
       "    <tr style=\"text-align: right;\">\n",
       "      <th></th>\n",
       "      <th>document_id</th>\n",
       "      <th>datetime</th>\n",
       "      <th>requirements</th>\n",
       "      <th>solver</th>\n",
       "      <th>os_name</th>\n",
       "      <th>os_version</th>\n",
       "      <th>python_interpreter</th>\n",
       "      <th>analyzer_version</th>\n",
       "    </tr>\n",
       "  </thead>\n",
       "  <tbody>\n",
       "    <tr>\n",
       "      <th>0</th>\n",
       "      <td>solver-fedora-31-py37-0870237d</td>\n",
       "      <td>2020-05-20T02:50:05.559856</td>\n",
       "      <td>pymisp===2.4.126</td>\n",
       "      <td>fedora-31-py37</td>\n",
       "      <td>fedora</td>\n",
       "      <td>31</td>\n",
       "      <td>3.7</td>\n",
       "      <td>1.5.1</td>\n",
       "    </tr>\n",
       "    <tr>\n",
       "      <th>1</th>\n",
       "      <td>solver-fedora-31-py37-040d86fb</td>\n",
       "      <td>2019-12-26T16:39:24.029769</td>\n",
       "      <td>chameleon-core==1.0b33</td>\n",
       "      <td>fedora-31-py37</td>\n",
       "      <td>fedora</td>\n",
       "      <td>31</td>\n",
       "      <td>3.7</td>\n",
       "      <td>1.4.1</td>\n",
       "    </tr>\n",
       "    <tr>\n",
       "      <th>2</th>\n",
       "      <td>solver-fedora-31-py37-093a6ba1</td>\n",
       "      <td>2019-12-24T17:41:16.275891</td>\n",
       "      <td>products-membrane==2.1.1</td>\n",
       "      <td>fedora-31-py37</td>\n",
       "      <td>fedora</td>\n",
       "      <td>31</td>\n",
       "      <td>3.7</td>\n",
       "      <td>1.4.1</td>\n",
       "    </tr>\n",
       "    <tr>\n",
       "      <th>3</th>\n",
       "      <td>solver-fedora-31-py37-0754c8db</td>\n",
       "      <td>2019-12-27T16:50:18.077769</td>\n",
       "      <td>gsutil==4.38</td>\n",
       "      <td>fedora-31-py37</td>\n",
       "      <td>fedora</td>\n",
       "      <td>31</td>\n",
       "      <td>3.7</td>\n",
       "      <td>1.4.1</td>\n",
       "    </tr>\n",
       "    <tr>\n",
       "      <th>4</th>\n",
       "      <td>solver-fedora-31-py37-0b4bb440</td>\n",
       "      <td>2020-02-19T19:04:31.171955</td>\n",
       "      <td>httptools===0.1.0</td>\n",
       "      <td>fedora-31-py37</td>\n",
       "      <td>fedora</td>\n",
       "      <td>31</td>\n",
       "      <td>3.7</td>\n",
       "      <td>1.4.1</td>\n",
       "    </tr>\n",
       "  </tbody>\n",
       "</table>\n",
       "</div>"
      ],
      "text/plain": [
       "                      document_id                    datetime  \\\n",
       "0  solver-fedora-31-py37-0870237d  2020-05-20T02:50:05.559856   \n",
       "1  solver-fedora-31-py37-040d86fb  2019-12-26T16:39:24.029769   \n",
       "2  solver-fedora-31-py37-093a6ba1  2019-12-24T17:41:16.275891   \n",
       "3  solver-fedora-31-py37-0754c8db  2019-12-27T16:50:18.077769   \n",
       "4  solver-fedora-31-py37-0b4bb440  2020-02-19T19:04:31.171955   \n",
       "\n",
       "               requirements          solver os_name os_version  \\\n",
       "0          pymisp===2.4.126  fedora-31-py37  fedora         31   \n",
       "1    chameleon-core==1.0b33  fedora-31-py37  fedora         31   \n",
       "2  products-membrane==2.1.1  fedora-31-py37  fedora         31   \n",
       "3              gsutil==4.38  fedora-31-py37  fedora         31   \n",
       "4         httptools===0.1.0  fedora-31-py37  fedora         31   \n",
       "\n",
       "  python_interpreter analyzer_version  \n",
       "0                3.7            1.5.1  \n",
       "1                3.7            1.4.1  \n",
       "2                3.7            1.4.1  \n",
       "3                3.7            1.4.1  \n",
       "4                3.7            1.4.1  "
      ]
     },
     "execution_count": 17,
     "metadata": {},
     "output_type": "execute_result"
    }
   ],
   "source": [
    "solver_reports_metadata = []\n",
    "for solver_document in solver_reports:\n",
    "    solver_reports_metadata.append(\n",
    "        Solver.extract_data_from_solver_metadata(solver_reports[solver_document][\"metadata\"])\n",
    "    )\n",
    "\n",
    "solver_reports_metadata_df = pd.DataFrame(solver_reports_metadata)\n",
    "\n",
    "solver_reports_metadata_df.head()"
   ]
  },
  {
   "cell_type": "markdown",
   "metadata": {
    "ExecuteTime": {
     "end_time": "2020-05-31T15:34:49.636627Z",
     "start_time": "2020-05-31T15:34:49.633559Z"
    }
   },
   "source": [
    "## Solver report result"
   ]
  },
  {
   "cell_type": "markdown",
   "metadata": {},
   "source": [
    "All the result in solver report are described below:\n",
    "* **environment**, information about the environment on which the package has being solved;\n",
    "* **environment_packages**, information about external packages installed on the environment;\n",
    "* **errors**, if the installation of a package was not succesfull there will be information stored for each package error;\n",
    "    * **details**,\n",
    "        * **command**,\n",
    "        * **message**,\n",
    "        * **return_code**,\n",
    "        * **stderr**,\n",
    "        * **stdout**,\n",
    "        * **timeout**,\n",
    "    * **index_url** from where the package was download;\n",
    "    * **package_name**;\n",
    "    * **package_version**;\n",
    "    * **is_provided_package**, flag for storing package;\n",
    "    * **is_provided_package_version**, flag for storing package;\n",
    "    * **type**, error type;\n",
    "* **tree**, all the packages installed in the dependency tree and information about them;\n",
    "    * **dependencies**\n",
    "    * **metadata** of the package as taken from `importlib_metadata`;\n",
    "    * **index_url** from where the package was download;\n",
    "    * **package_name**;\n",
    "    * **package_version**;\n",
    "    * **sha256**;\n",
    "* **unparsed**, if there are packages in the tree that could not be parsed;\n",
    "* **unresolved**, if there are packages in the tree that could not be solved;"
   ]
  },
  {
   "cell_type": "code",
   "execution_count": 18,
   "metadata": {
    "ExecuteTime": {
     "end_time": "2020-06-01T08:06:14.148903Z",
     "start_time": "2020-06-01T08:06:14.132115Z"
    }
   },
   "outputs": [
    {
     "data": {
      "text/html": [
       "<div>\n",
       "<style scoped>\n",
       "    .dataframe tbody tr th:only-of-type {\n",
       "        vertical-align: middle;\n",
       "    }\n",
       "\n",
       "    .dataframe tbody tr th {\n",
       "        vertical-align: top;\n",
       "    }\n",
       "\n",
       "    .dataframe thead th {\n",
       "        text-align: right;\n",
       "    }\n",
       "</style>\n",
       "<table border=\"1\" class=\"dataframe\">\n",
       "  <thead>\n",
       "    <tr style=\"text-align: right;\">\n",
       "      <th></th>\n",
       "      <th>environment</th>\n",
       "      <th>environment_packages</th>\n",
       "      <th>errors</th>\n",
       "      <th>tree</th>\n",
       "      <th>unparsed</th>\n",
       "      <th>unresolved</th>\n",
       "    </tr>\n",
       "  </thead>\n",
       "  <tbody>\n",
       "    <tr>\n",
       "      <th>0</th>\n",
       "      <td>{'implementation_name': 'cpython', 'implementa...</td>\n",
       "      <td>[{'package_name': 'pipdeptree', 'package_versi...</td>\n",
       "      <td>[]</td>\n",
       "      <td>[{'dependencies': [{'extra': ['openioc'], 'ext...</td>\n",
       "      <td>[]</td>\n",
       "      <td>[]</td>\n",
       "    </tr>\n",
       "  </tbody>\n",
       "</table>\n",
       "</div>"
      ],
      "text/plain": [
       "                                         environment  \\\n",
       "0  {'implementation_name': 'cpython', 'implementa...   \n",
       "\n",
       "                                environment_packages errors  \\\n",
       "0  [{'package_name': 'pipdeptree', 'package_versi...     []   \n",
       "\n",
       "                                                tree unparsed unresolved  \n",
       "0  [{'dependencies': [{'extra': ['openioc'], 'ext...       []         []  "
      ]
     },
     "execution_count": 18,
     "metadata": {},
     "output_type": "execute_result"
    }
   ],
   "source": [
    "pd.DataFrame([solver_report[\"result\"]])"
   ]
  },
  {
   "cell_type": "code",
   "execution_count": 19,
   "metadata": {
    "ExecuteTime": {
     "end_time": "2020-06-01T08:06:16.283663Z",
     "start_time": "2020-06-01T08:06:16.271237Z"
    }
   },
   "outputs": [
    {
     "data": {
      "text/html": [
       "<div>\n",
       "<style scoped>\n",
       "    .dataframe tbody tr th:only-of-type {\n",
       "        vertical-align: middle;\n",
       "    }\n",
       "\n",
       "    .dataframe tbody tr th {\n",
       "        vertical-align: top;\n",
       "    }\n",
       "\n",
       "    .dataframe thead th {\n",
       "        text-align: right;\n",
       "    }\n",
       "</style>\n",
       "<table border=\"1\" class=\"dataframe\">\n",
       "  <thead>\n",
       "    <tr style=\"text-align: right;\">\n",
       "      <th></th>\n",
       "      <th>implementation_name</th>\n",
       "      <th>implementation_version</th>\n",
       "      <th>os_name</th>\n",
       "      <th>platform_machine</th>\n",
       "      <th>platform_python_implementation</th>\n",
       "      <th>platform_release</th>\n",
       "      <th>platform_system</th>\n",
       "      <th>platform_version</th>\n",
       "      <th>python_full_version</th>\n",
       "      <th>python_version</th>\n",
       "      <th>sys_platform</th>\n",
       "    </tr>\n",
       "  </thead>\n",
       "  <tbody>\n",
       "    <tr>\n",
       "      <th>0</th>\n",
       "      <td>cpython</td>\n",
       "      <td>3.7.6</td>\n",
       "      <td>posix</td>\n",
       "      <td>x86_64</td>\n",
       "      <td>CPython</td>\n",
       "      <td>3.10.0-957.21.2.el7.x86_64</td>\n",
       "      <td>Linux</td>\n",
       "      <td>#1 SMP Tue May 28 09:26:43 UTC 2019</td>\n",
       "      <td>3.7.6</td>\n",
       "      <td>3.7</td>\n",
       "      <td>linux</td>\n",
       "    </tr>\n",
       "  </tbody>\n",
       "</table>\n",
       "</div>"
      ],
      "text/plain": [
       "  implementation_name implementation_version os_name platform_machine  \\\n",
       "0             cpython                  3.7.6   posix           x86_64   \n",
       "\n",
       "  platform_python_implementation            platform_release platform_system  \\\n",
       "0                        CPython  3.10.0-957.21.2.el7.x86_64           Linux   \n",
       "\n",
       "                      platform_version python_full_version python_version  \\\n",
       "0  #1 SMP Tue May 28 09:26:43 UTC 2019               3.7.6            3.7   \n",
       "\n",
       "  sys_platform  \n",
       "0        linux  "
      ]
     },
     "execution_count": 19,
     "metadata": {},
     "output_type": "execute_result"
    }
   ],
   "source": [
    "pd.DataFrame([solver_report[\"result\"][\"environment\"]])"
   ]
  },
  {
   "cell_type": "markdown",
   "metadata": {
    "ExecuteTime": {
     "end_time": "2020-05-31T19:24:22.141230Z",
     "start_time": "2020-05-31T19:24:22.138537Z"
    }
   },
   "source": [
    "# Consider all solver reports"
   ]
  },
  {
   "cell_type": "code",
   "execution_count": 24,
   "metadata": {
    "ExecuteTime": {
     "end_time": "2020-06-01T08:06:18.472978Z",
     "start_time": "2020-06-01T08:06:18.336739Z"
    }
   },
   "outputs": [],
   "source": [
    "solver_reports_extracted_data = []\n",
    "solver_errors = []\n",
    "for solver_document in solver_reports:\n",
    "    solver_report_extracted_data = Solver.extract_data_from_solver_metadata(\n",
    "        solver_reports[solver_document][\"metadata\"]\n",
    "    )\n",
    "    for k, v in solver_reports[solver_document][\"result\"].items():\n",
    "        solver_report_extracted_data[k] = v\n",
    "        if k == \"errors\" and v:\n",
    "            errors = Solver.extract_errors_from_solver_result(v)\n",
    "            for error in errors:\n",
    "                solver_errors.append(error)\n",
    "    \n",
    "    packages = Solver.extract_tree_from_solver_result(solver_reports[solver_document][\"result\"])\n",
    "    solver_report_extracted_data[\"packages\"] = packages\n",
    "    solver_reports_extracted_data.append(solver_report_extracted_data)"
   ]
  },
  {
   "cell_type": "markdown",
   "metadata": {},
   "source": [
    "## Aggregated Data from solver reports"
   ]
  },
  {
   "cell_type": "code",
   "execution_count": 25,
   "metadata": {
    "ExecuteTime": {
     "end_time": "2020-06-01T08:09:04.857464Z",
     "start_time": "2020-06-01T08:09:04.686272Z"
    }
   },
   "outputs": [
    {
     "data": {
      "text/html": [
       "<div>\n",
       "<style scoped>\n",
       "    .dataframe tbody tr th:only-of-type {\n",
       "        vertical-align: middle;\n",
       "    }\n",
       "\n",
       "    .dataframe tbody tr th {\n",
       "        vertical-align: top;\n",
       "    }\n",
       "\n",
       "    .dataframe thead th {\n",
       "        text-align: right;\n",
       "    }\n",
       "</style>\n",
       "<table border=\"1\" class=\"dataframe\">\n",
       "  <thead>\n",
       "    <tr style=\"text-align: right;\">\n",
       "      <th></th>\n",
       "      <th>document_id</th>\n",
       "      <th>datetime</th>\n",
       "      <th>requirements</th>\n",
       "      <th>solver</th>\n",
       "      <th>os_name</th>\n",
       "      <th>os_version</th>\n",
       "      <th>python_interpreter</th>\n",
       "      <th>analyzer_version</th>\n",
       "      <th>environment</th>\n",
       "      <th>environment_packages</th>\n",
       "      <th>errors</th>\n",
       "      <th>tree</th>\n",
       "      <th>unparsed</th>\n",
       "      <th>unresolved</th>\n",
       "      <th>packages</th>\n",
       "    </tr>\n",
       "  </thead>\n",
       "  <tbody>\n",
       "    <tr>\n",
       "      <th>0</th>\n",
       "      <td>solver-fedora-31-py37-0870237d</td>\n",
       "      <td>2020-05-20T02:50:05.559856</td>\n",
       "      <td>pymisp===2.4.126</td>\n",
       "      <td>fedora-31-py37</td>\n",
       "      <td>fedora</td>\n",
       "      <td>31</td>\n",
       "      <td>3.7</td>\n",
       "      <td>1.5.1</td>\n",
       "      <td>{'implementation_name': 'cpython', 'implementa...</td>\n",
       "      <td>[{'package_name': 'pipdeptree', 'package_versi...</td>\n",
       "      <td>[]</td>\n",
       "      <td>[{'dependencies': [{'extra': ['openioc'], 'ext...</td>\n",
       "      <td>[]</td>\n",
       "      <td>[]</td>\n",
       "      <td>[{'package_name': 'pymisp', 'package_version':...</td>\n",
       "    </tr>\n",
       "    <tr>\n",
       "      <th>1</th>\n",
       "      <td>solver-fedora-31-py37-040d86fb</td>\n",
       "      <td>2019-12-26T16:39:24.029769</td>\n",
       "      <td>chameleon-core==1.0b33</td>\n",
       "      <td>fedora-31-py37</td>\n",
       "      <td>fedora</td>\n",
       "      <td>31</td>\n",
       "      <td>3.7</td>\n",
       "      <td>1.4.1</td>\n",
       "      <td>{'implementation_name': 'cpython', 'implementa...</td>\n",
       "      <td>[{'package_name': 'pipdeptree', 'package_versi...</td>\n",
       "      <td>[]</td>\n",
       "      <td>[{'dependencies': [{'extra': [], 'extras': [],...</td>\n",
       "      <td>[]</td>\n",
       "      <td>[]</td>\n",
       "      <td>[{'package_name': 'chameleon.core', 'package_v...</td>\n",
       "    </tr>\n",
       "    <tr>\n",
       "      <th>2</th>\n",
       "      <td>solver-fedora-31-py37-093a6ba1</td>\n",
       "      <td>2019-12-24T17:41:16.275891</td>\n",
       "      <td>products-membrane==2.1.1</td>\n",
       "      <td>fedora-31-py37</td>\n",
       "      <td>fedora</td>\n",
       "      <td>31</td>\n",
       "      <td>3.7</td>\n",
       "      <td>1.4.1</td>\n",
       "      <td>{'implementation_name': 'cpython', 'implementa...</td>\n",
       "      <td>[{'package_name': 'pipdeptree', 'package_versi...</td>\n",
       "      <td>[]</td>\n",
       "      <td>[{'dependencies': [{'extra': [], 'extras': [],...</td>\n",
       "      <td>[]</td>\n",
       "      <td>[]</td>\n",
       "      <td>[{'package_name': 'Products.membrane', 'packag...</td>\n",
       "    </tr>\n",
       "    <tr>\n",
       "      <th>3</th>\n",
       "      <td>solver-fedora-31-py37-0754c8db</td>\n",
       "      <td>2019-12-27T16:50:18.077769</td>\n",
       "      <td>gsutil==4.38</td>\n",
       "      <td>fedora-31-py37</td>\n",
       "      <td>fedora</td>\n",
       "      <td>31</td>\n",
       "      <td>3.7</td>\n",
       "      <td>1.4.1</td>\n",
       "      <td>{'implementation_name': 'cpython', 'implementa...</td>\n",
       "      <td>[{'package_name': 'pipdeptree', 'package_versi...</td>\n",
       "      <td>[{'details': {'command': '/home/solver/venv/bi...</td>\n",
       "      <td>[]</td>\n",
       "      <td>[]</td>\n",
       "      <td>[]</td>\n",
       "      <td>[]</td>\n",
       "    </tr>\n",
       "    <tr>\n",
       "      <th>4</th>\n",
       "      <td>solver-fedora-31-py37-0b4bb440</td>\n",
       "      <td>2020-02-19T19:04:31.171955</td>\n",
       "      <td>httptools===0.1.0</td>\n",
       "      <td>fedora-31-py37</td>\n",
       "      <td>fedora</td>\n",
       "      <td>31</td>\n",
       "      <td>3.7</td>\n",
       "      <td>1.4.1</td>\n",
       "      <td>{'implementation_name': 'cpython', 'implementa...</td>\n",
       "      <td>[{'package_name': 'pipdeptree', 'package_versi...</td>\n",
       "      <td>[]</td>\n",
       "      <td>[{'dependencies': [], 'importlib_metadata': {'...</td>\n",
       "      <td>[]</td>\n",
       "      <td>[]</td>\n",
       "      <td>[{'package_name': 'httptools', 'package_versio...</td>\n",
       "    </tr>\n",
       "  </tbody>\n",
       "</table>\n",
       "</div>"
      ],
      "text/plain": [
       "                      document_id                    datetime  \\\n",
       "0  solver-fedora-31-py37-0870237d  2020-05-20T02:50:05.559856   \n",
       "1  solver-fedora-31-py37-040d86fb  2019-12-26T16:39:24.029769   \n",
       "2  solver-fedora-31-py37-093a6ba1  2019-12-24T17:41:16.275891   \n",
       "3  solver-fedora-31-py37-0754c8db  2019-12-27T16:50:18.077769   \n",
       "4  solver-fedora-31-py37-0b4bb440  2020-02-19T19:04:31.171955   \n",
       "\n",
       "               requirements          solver os_name os_version  \\\n",
       "0          pymisp===2.4.126  fedora-31-py37  fedora         31   \n",
       "1    chameleon-core==1.0b33  fedora-31-py37  fedora         31   \n",
       "2  products-membrane==2.1.1  fedora-31-py37  fedora         31   \n",
       "3              gsutil==4.38  fedora-31-py37  fedora         31   \n",
       "4         httptools===0.1.0  fedora-31-py37  fedora         31   \n",
       "\n",
       "  python_interpreter analyzer_version  \\\n",
       "0                3.7            1.5.1   \n",
       "1                3.7            1.4.1   \n",
       "2                3.7            1.4.1   \n",
       "3                3.7            1.4.1   \n",
       "4                3.7            1.4.1   \n",
       "\n",
       "                                         environment  \\\n",
       "0  {'implementation_name': 'cpython', 'implementa...   \n",
       "1  {'implementation_name': 'cpython', 'implementa...   \n",
       "2  {'implementation_name': 'cpython', 'implementa...   \n",
       "3  {'implementation_name': 'cpython', 'implementa...   \n",
       "4  {'implementation_name': 'cpython', 'implementa...   \n",
       "\n",
       "                                environment_packages  \\\n",
       "0  [{'package_name': 'pipdeptree', 'package_versi...   \n",
       "1  [{'package_name': 'pipdeptree', 'package_versi...   \n",
       "2  [{'package_name': 'pipdeptree', 'package_versi...   \n",
       "3  [{'package_name': 'pipdeptree', 'package_versi...   \n",
       "4  [{'package_name': 'pipdeptree', 'package_versi...   \n",
       "\n",
       "                                              errors  \\\n",
       "0                                                 []   \n",
       "1                                                 []   \n",
       "2                                                 []   \n",
       "3  [{'details': {'command': '/home/solver/venv/bi...   \n",
       "4                                                 []   \n",
       "\n",
       "                                                tree unparsed unresolved  \\\n",
       "0  [{'dependencies': [{'extra': ['openioc'], 'ext...       []         []   \n",
       "1  [{'dependencies': [{'extra': [], 'extras': [],...       []         []   \n",
       "2  [{'dependencies': [{'extra': [], 'extras': [],...       []         []   \n",
       "3                                                 []       []         []   \n",
       "4  [{'dependencies': [], 'importlib_metadata': {'...       []         []   \n",
       "\n",
       "                                            packages  \n",
       "0  [{'package_name': 'pymisp', 'package_version':...  \n",
       "1  [{'package_name': 'chameleon.core', 'package_v...  \n",
       "2  [{'package_name': 'Products.membrane', 'packag...  \n",
       "3                                                 []  \n",
       "4  [{'package_name': 'httptools', 'package_versio...  "
      ]
     },
     "execution_count": 25,
     "metadata": {},
     "output_type": "execute_result"
    }
   ],
   "source": [
    "solver_reports_metadata_df = pd.DataFrame(solver_reports_extracted_data)\n",
    "\n",
    "solver_reports_metadata_df.head()"
   ]
  },
  {
   "cell_type": "markdown",
   "metadata": {},
   "source": [
    "## Error Data from solver reports"
   ]
  },
  {
   "cell_type": "code",
   "execution_count": 26,
   "metadata": {
    "ExecuteTime": {
     "end_time": "2020-06-01T08:08:07.254707Z",
     "start_time": "2020-06-01T08:08:07.220557Z"
    }
   },
   "outputs": [
    {
     "data": {
      "text/html": [
       "<div>\n",
       "<style scoped>\n",
       "    .dataframe tbody tr th:only-of-type {\n",
       "        vertical-align: middle;\n",
       "    }\n",
       "\n",
       "    .dataframe tbody tr th {\n",
       "        vertical-align: top;\n",
       "    }\n",
       "\n",
       "    .dataframe thead th {\n",
       "        text-align: right;\n",
       "    }\n",
       "</style>\n",
       "<table border=\"1\" class=\"dataframe\">\n",
       "  <thead>\n",
       "    <tr style=\"text-align: right;\">\n",
       "      <th></th>\n",
       "      <th>package_name</th>\n",
       "      <th>package_version</th>\n",
       "      <th>index_url</th>\n",
       "      <th>type</th>\n",
       "      <th>command</th>\n",
       "      <th>message</th>\n",
       "      <th>return_code</th>\n",
       "      <th>stderr</th>\n",
       "      <th>stdout</th>\n",
       "      <th>timeout</th>\n",
       "    </tr>\n",
       "  </thead>\n",
       "  <tbody>\n",
       "    <tr>\n",
       "      <th>0</th>\n",
       "      <td>gsutil</td>\n",
       "      <td>4.38</td>\n",
       "      <td>https://pypi.org/simple</td>\n",
       "      <td>command_error</td>\n",
       "      <td>/home/solver/venv/bin/python3 -m pip install -...</td>\n",
       "      <td>Command exited with non-zero status code (1): ...</td>\n",
       "      <td>1.0</td>\n",
       "      <td>ERROR: Could not find a version that satisfies...</td>\n",
       "      <td></td>\n",
       "      <td>60.0</td>\n",
       "    </tr>\n",
       "    <tr>\n",
       "      <th>1</th>\n",
       "      <td>pyobjc-framework-safariservices</td>\n",
       "      <td>3.2.1</td>\n",
       "      <td>https://pypi.org/simple</td>\n",
       "      <td>command_error</td>\n",
       "      <td>/home/solver/venv/bin/python3 -m pip install -...</td>\n",
       "      <td>Command exited with non-zero status code (1): ...</td>\n",
       "      <td>1.0</td>\n",
       "      <td>ERROR: Command errored out with exit statu...</td>\n",
       "      <td>Collecting pyobjc-framework-safariservices==3....</td>\n",
       "      <td>60.0</td>\n",
       "    </tr>\n",
       "    <tr>\n",
       "      <th>2</th>\n",
       "      <td>rasterio</td>\n",
       "      <td>1.0a7</td>\n",
       "      <td>https://pypi.org/simple</td>\n",
       "      <td>command_error</td>\n",
       "      <td>/home/solver/venv/bin/python3 -m pip install -...</td>\n",
       "      <td>Command exited with non-zero status code (1): ...</td>\n",
       "      <td>1.0</td>\n",
       "      <td>ERROR: Command errored out with exit statu...</td>\n",
       "      <td>Collecting rasterio==1.0a7\\n  Downloading http...</td>\n",
       "      <td>60.0</td>\n",
       "    </tr>\n",
       "    <tr>\n",
       "      <th>3</th>\n",
       "      <td>python-keystoneclient</td>\n",
       "      <td>0.2.3</td>\n",
       "      <td>https://pypi.org/simple</td>\n",
       "      <td>command_error</td>\n",
       "      <td>/home/solver/venv/bin/python3 -m pip install -...</td>\n",
       "      <td>Command exited with non-zero status code (1): ...</td>\n",
       "      <td>1.0</td>\n",
       "      <td>ERROR: Command errored out with exit statu...</td>\n",
       "      <td>Collecting python-keystoneclient==0.2.3\\n  Dow...</td>\n",
       "      <td>60.0</td>\n",
       "    </tr>\n",
       "    <tr>\n",
       "      <th>4</th>\n",
       "      <td>trash-cli</td>\n",
       "      <td>0.11.0.dev-r199</td>\n",
       "      <td>https://pypi.org/simple</td>\n",
       "      <td>command_error</td>\n",
       "      <td>/home/solver/venv/bin/python3 -m pip install -...</td>\n",
       "      <td>Command exited with non-zero status code (1): ...</td>\n",
       "      <td>1.0</td>\n",
       "      <td>ERROR: Command errored out with exit statu...</td>\n",
       "      <td>Collecting trash-cli==0.11.0.dev-r199\\n  Downl...</td>\n",
       "      <td>60.0</td>\n",
       "    </tr>\n",
       "  </tbody>\n",
       "</table>\n",
       "</div>"
      ],
      "text/plain": [
       "                      package_name  package_version                index_url  \\\n",
       "0                           gsutil             4.38  https://pypi.org/simple   \n",
       "1  pyobjc-framework-safariservices            3.2.1  https://pypi.org/simple   \n",
       "2                         rasterio            1.0a7  https://pypi.org/simple   \n",
       "3            python-keystoneclient            0.2.3  https://pypi.org/simple   \n",
       "4                        trash-cli  0.11.0.dev-r199  https://pypi.org/simple   \n",
       "\n",
       "            type                                            command  \\\n",
       "0  command_error  /home/solver/venv/bin/python3 -m pip install -...   \n",
       "1  command_error  /home/solver/venv/bin/python3 -m pip install -...   \n",
       "2  command_error  /home/solver/venv/bin/python3 -m pip install -...   \n",
       "3  command_error  /home/solver/venv/bin/python3 -m pip install -...   \n",
       "4  command_error  /home/solver/venv/bin/python3 -m pip install -...   \n",
       "\n",
       "                                             message  return_code  \\\n",
       "0  Command exited with non-zero status code (1): ...          1.0   \n",
       "1  Command exited with non-zero status code (1): ...          1.0   \n",
       "2  Command exited with non-zero status code (1): ...          1.0   \n",
       "3  Command exited with non-zero status code (1): ...          1.0   \n",
       "4  Command exited with non-zero status code (1): ...          1.0   \n",
       "\n",
       "                                              stderr  \\\n",
       "0  ERROR: Could not find a version that satisfies...   \n",
       "1      ERROR: Command errored out with exit statu...   \n",
       "2      ERROR: Command errored out with exit statu...   \n",
       "3      ERROR: Command errored out with exit statu...   \n",
       "4      ERROR: Command errored out with exit statu...   \n",
       "\n",
       "                                              stdout  timeout  \n",
       "0                                                        60.0  \n",
       "1  Collecting pyobjc-framework-safariservices==3....     60.0  \n",
       "2  Collecting rasterio==1.0a7\\n  Downloading http...     60.0  \n",
       "3  Collecting python-keystoneclient==0.2.3\\n  Dow...     60.0  \n",
       "4  Collecting trash-cli==0.11.0.dev-r199\\n  Downl...     60.0  "
      ]
     },
     "execution_count": 26,
     "metadata": {},
     "output_type": "execute_result"
    }
   ],
   "source": [
    "solver_total_errors_df = pd.DataFrame(solver_errors)\n",
    "\n",
    "solver_total_errors_df.head()"
   ]
  }
 ],
 "metadata": {
  "finalized": {
   "timestamp": 1590844296277,
   "trusted": true
  },
  "kernelspec": {
   "display_name": "Python 3",
   "language": "python",
   "name": "python3"
  },
  "language_info": {
   "codemirror_mode": {
    "name": "ipython",
    "version": 3
   },
   "file_extension": ".py",
   "mimetype": "text/x-python",
   "name": "python",
   "nbconvert_exporter": "python",
   "pygments_lexer": "ipython3",
   "version": "3.6.12"
  },
  "requirements": {
   "aliases": {},
   "packages": {},
   "requires": {
    "python_version": "3.6"
   },
   "sources": [
    {
     "name": "pypi",
     "url": "https://pypi.org/simple",
     "verify_ssl": true
    }
   ]
  },
  "toc": {
   "base_numbering": 1,
   "nav_menu": {},
   "number_sections": true,
   "sideBar": true,
   "skip_h1_title": false,
   "title_cell": "Table of Contents",
   "title_sidebar": "Contents",
   "toc_cell": true,
   "toc_position": {},
   "toc_section_display": true,
   "toc_window_display": true
  }
 },
 "nbformat": 4,
 "nbformat_minor": 4
}
